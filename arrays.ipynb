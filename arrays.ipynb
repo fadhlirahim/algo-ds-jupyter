{
 "cells": [
  {
   "cell_type": "markdown",
   "id": "37fb99a2-108f-4913-b933-d8dc1f48e053",
   "metadata": {},
   "source": [
    "const a = [] // is not an array, let's explore why."
   ]
  },
  {
   "cell_type": "code",
   "execution_count": 2,
   "id": "5c7bdee5",
   "metadata": {},
   "outputs": [],
   "source": [
    "const a = new ArrayBuffer(6);"
   ]
  },
  {
   "cell_type": "code",
   "execution_count": 3,
   "id": "b7cb0992",
   "metadata": {},
   "outputs": [
    {
     "data": {
      "text/plain": [
       "ArrayBuffer { \u001b[36m[Uint8Contents]\u001b[39m: <00 00 00 00 00 00>, byteLength: \u001b[33m6\u001b[39m }"
      ]
     },
     "execution_count": 3,
     "metadata": {},
     "output_type": "execute_result"
    }
   ],
   "source": [
    "a"
   ]
  },
  {
   "cell_type": "markdown",
   "id": "d2aa0227",
   "metadata": {},
   "source": [
    "I want to interprete those zeros in a specific way. In this case Uint8Array: The constructor for creating an array of 8-bit unsigned integers.\n"
   ]
  },
  {
   "cell_type": "code",
   "execution_count": 4,
   "id": "0200d650",
   "metadata": {},
   "outputs": [],
   "source": [
    "const a8 = new Uint8Array(a)"
   ]
  },
  {
   "cell_type": "code",
   "execution_count": 5,
   "id": "f80a25a8",
   "metadata": {},
   "outputs": [
    {
     "data": {
      "text/plain": [
       "\u001b[33m45\u001b[39m"
      ]
     },
     "execution_count": 5,
     "metadata": {},
     "output_type": "execute_result"
    }
   ],
   "source": [
    "a8[0] = 45"
   ]
  },
  {
   "cell_type": "code",
   "execution_count": 6,
   "id": "396c6366",
   "metadata": {},
   "outputs": [
    {
     "data": {
      "text/plain": [
       "ArrayBuffer { \u001b[36m[Uint8Contents]\u001b[39m: <2d 00 00 00 00 00>, byteLength: \u001b[33m6\u001b[39m }"
      ]
     },
     "execution_count": 6,
     "metadata": {},
     "output_type": "execute_result"
    }
   ],
   "source": [
    "a"
   ]
  },
  {
   "cell_type": "code",
   "execution_count": 7,
   "id": "0b805a1b",
   "metadata": {},
   "outputs": [
    {
     "data": {
      "text/plain": [
       "\u001b[33m45\u001b[39m"
      ]
     },
     "execution_count": 7,
     "metadata": {},
     "output_type": "execute_result"
    }
   ],
   "source": [
    "a8[2]=45"
   ]
  },
  {
   "cell_type": "code",
   "execution_count": 8,
   "id": "f4576b3d",
   "metadata": {},
   "outputs": [
    {
     "data": {
      "text/plain": [
       "ArrayBuffer { \u001b[36m[Uint8Contents]\u001b[39m: <2d 00 2d 00 00 00>, byteLength: \u001b[33m6\u001b[39m }"
      ]
     },
     "execution_count": 8,
     "metadata": {},
     "output_type": "execute_result"
    }
   ],
   "source": [
    "a"
   ]
  },
  {
   "cell_type": "code",
   "execution_count": 9,
   "id": "ab651a95",
   "metadata": {},
   "outputs": [],
   "source": [
    "const a16 = new Uint16Array(a)"
   ]
  },
  {
   "cell_type": "code",
   "execution_count": 10,
   "id": "1f6f2822",
   "metadata": {},
   "outputs": [
    {
     "data": {
      "text/plain": [
       "ArrayBuffer { \u001b[36m[Uint8Contents]\u001b[39m: <2d 00 2d 00 00 00>, byteLength: \u001b[33m6\u001b[39m }"
      ]
     },
     "execution_count": 10,
     "metadata": {},
     "output_type": "execute_result"
    }
   ],
   "source": [
    "a"
   ]
  },
  {
   "cell_type": "code",
   "execution_count": 11,
   "id": "c4fa2b0e",
   "metadata": {},
   "outputs": [
    {
     "data": {
      "text/plain": [
       "\u001b[33m17733\u001b[39m"
      ]
     },
     "execution_count": 11,
     "metadata": {},
     "output_type": "execute_result"
    }
   ],
   "source": [
    "a16[2] = 0x4545"
   ]
  },
  {
   "cell_type": "code",
   "execution_count": 12,
   "id": "6bc25a6c",
   "metadata": {},
   "outputs": [
    {
     "data": {
      "text/plain": [
       "ArrayBuffer { \u001b[36m[Uint8Contents]\u001b[39m: <2d 00 2d 00 45 45>, byteLength: \u001b[33m6\u001b[39m }"
      ]
     },
     "execution_count": 12,
     "metadata": {},
     "output_type": "execute_result"
    }
   ],
   "source": [
    "a"
   ]
  },
  {
   "cell_type": "code",
   "execution_count": 13,
   "id": "dc1e8462",
   "metadata": {},
   "outputs": [
    {
     "data": {
      "text/plain": [
       "\u001b[33m69\u001b[39m"
      ]
     },
     "execution_count": 13,
     "metadata": {},
     "output_type": "execute_result"
    }
   ],
   "source": [
    "a16[2] = 0x45\n"
   ]
  },
  {
   "cell_type": "code",
   "execution_count": 14,
   "id": "145faa13",
   "metadata": {},
   "outputs": [
    {
     "data": {
      "text/plain": [
       "ArrayBuffer { \u001b[36m[Uint8Contents]\u001b[39m: <2d 00 2d 00 45 00>, byteLength: \u001b[33m6\u001b[39m }"
      ]
     },
     "execution_count": 14,
     "metadata": {},
     "output_type": "execute_result"
    }
   ],
   "source": [
    "a"
   ]
  },
  {
   "cell_type": "markdown",
   "id": "9ba87de6",
   "metadata": {},
   "source": [
    "Here's a simplified breakdown of the above:\n",
    "\n",
    "- We start with a single ArrayBuffer, a contiguous block of memory.\n",
    "\n",
    "- When we create a Uint8Array, we're saying, \"I want to look at this memory in 8-bit chunks.\" So, when we update an index, it modifies 8 bits of that ArrayBuffer.\n",
    "\n",
    "- Switching to Uint16Array, we're now viewing the same ArrayBuffer in 16-bit chunks. Updating an index now modifies 16 bits.\n",
    "\n",
    "- The underlying memory is the same; it's just the \"lens\" through which we're viewing it that changes.\n",
    "\n",
    "- We touched on endianness, which can affect the order in which bytes are stored and is vital to understand for cross-system compatibility.\n",
    "\n",
    "This knowledge is super useful, especially if we're working with binary data, which happens quite often."
   ]
  },
  {
   "cell_type": "markdown",
   "id": "53cecad0",
   "metadata": {},
   "source": []
  }
 ],
 "metadata": {
  "kernelspec": {
   "display_name": "Deno",
   "language": "typescript",
   "name": "deno"
  },
  "language_info": {
   "file_extension": ".ts",
   "mimetype": "text/x.typescript",
   "name": "typescript",
   "nb_converter": "script",
   "pygments_lexer": "typescript",
   "version": "5.2.2"
  }
 },
 "nbformat": 4,
 "nbformat_minor": 5
}
