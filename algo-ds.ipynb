{
 "cells": [
  {
   "cell_type": "markdown",
   "id": "d0be32f1",
   "metadata": {},
   "source": [
    "## Big O\n",
    "\n",
    "Big O is a way to categorize your algorithms time or memory requirements based on input. It is not meant to be an exact measurement. It will not tell you how many CPU cycles it takes, instead it is meant to generalize the growth of your algorithm.\n",
    "\n",
    "e.g:\n",
    "\n",
    "So when someone says Oh of N, they mean your algorithm will grow linearily based on input.\n",
    "\n",
    "### Why do we use it?\n",
    "\n",
    "It helps us make decisions about what data structures and algo to use.\n",
    "\n",
    "\n",
    "\n",
    "\n"
   ]
  },
  {
   "cell_type": "code",
   "execution_count": 6,
   "id": "a3ab3b66",
   "metadata": {},
   "outputs": [],
   "source": [
    "function sum_char_codes(n: string): number {\n",
    "    let sum = 0;\n",
    "    for(let i=0; i<n.length; i++) {\n",
    "        sum += n.charCodeAt(i)\n",
    "    }\n",
    "    return sum;\n",
    "}\n",
    "\n"
   ]
  },
  {
   "cell_type": "code",
   "execution_count": 7,
   "id": "50012c67",
   "metadata": {},
   "outputs": [
    {
     "data": {
      "text/plain": [
       "\u001b[33m97\u001b[39m"
      ]
     },
     "execution_count": 7,
     "metadata": {},
     "output_type": "execute_result"
    }
   ],
   "source": [
    "sum_char_codes(\"a\")"
   ]
  },
  {
   "cell_type": "markdown",
   "id": "ff7a7bda",
   "metadata": {},
   "source": [
    "### Important concepts\n",
    "\n",
    "As your input grows, how fast does computation or memory grow?\n",
    "\n",
    "**Growth is with respect to the input.**\n",
    "\n",
    "\n",
    "Memory growing is not computationally free.\n",
    "\n",
    "\n",
    "The above example os O(N)\n",
    "\n",
    "### Simplest tricks for complexity\n",
    "\n",
    "Look for loops\n"
   ]
  },
  {
   "cell_type": "code",
   "execution_count": 8,
   "id": "9f3b0e3a",
   "metadata": {},
   "outputs": [
    {
     "ename": "Expected ident at repl.ts:1:2\n\n  ### What's the running time?\n   ~",
     "evalue": " ",
     "output_type": "error",
     "traceback": []
    }
   ],
   "source": [
    "### What's the running time?\n",
    "\n"
   ]
  },
  {
   "cell_type": "code",
   "execution_count": 9,
   "id": "7ba4d87b",
   "metadata": {},
   "outputs": [],
   "source": [
    "function sum_char_codes(n: string): number {\n",
    "    let sum = 0;\n",
    "    for (let i = 0; i < n.length; ++i) {\n",
    "        sum += n.charCodeAt(i);\n",
    "    }\n",
    "\n",
    "    for (let i = 0; i < n.length; ++i) {\n",
    "        sum += n.charCodeAt(i);\n",
    "    }\n",
    "\n",
    "    return sum;\n",
    "}"
   ]
  },
  {
   "cell_type": "markdown",
   "id": "a2ec0736",
   "metadata": {},
   "source": [
    "O(2N) -> O(N)\n",
    "\n",
    "We normally drop constants in understanding how does it grow.\n",
    "\n",
    "O(2N) -> O(N) and this makes sense. \n",
    "\n",
    "That is because Big O is meant to describe the upper bound of the algorithm (the growth of the algorithm). The constant eventually becomes irrelevant.\n",
    "\n",
    "\n",
    "\n",
    "Take the following:\n",
    "\n",
    "N = 1, O(10N) = 10, O(N^2) = 1\n",
    "\n",
    "\n",
    "N = 5, O(10N) = 50, O(N^2) = 25\n",
    "\n",
    "\n",
    "N = 100, O(10N) = 1,000, O(N^2) = 10,000 // 10x bigger\n",
    "\n",
    "\n",
    "N = 1000, O(10N) = 10,000, O(N^2) = 1,000,000 // 100x bigger\n",
    "\n",
    "\n",
    "N = 10000, O(10N) = 100,000, O(N^2) = 100,000,000 // 1000x bigger\n",
    "\n"
   ]
  },
  {
   "cell_type": "code",
   "execution_count": null,
   "id": "eaaf0674",
   "metadata": {},
   "outputs": [],
   "source": []
  }
 ],
 "metadata": {
  "kernelspec": {
   "display_name": "Deno",
   "language": "typescript",
   "name": "deno"
  },
  "language_info": {
   "file_extension": ".ts",
   "mimetype": "text/x.typescript",
   "name": "typescript",
   "nb_converter": "script",
   "pygments_lexer": "typescript",
   "version": "5.2.2"
  }
 },
 "nbformat": 4,
 "nbformat_minor": 5
}
