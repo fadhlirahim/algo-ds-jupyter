{
 "cells": [
  {
   "cell_type": "markdown",
   "id": "860d6b66",
   "metadata": {},
   "source": [
    "# Binary Search"
   ]
  },
  {
   "cell_type": "markdown",
   "id": "261eaf14",
   "metadata": {},
   "source": [
    "If the input halves at each step, it's likely O(LogN) or O(NlogN)"
   ]
  },
  {
   "cell_type": "code",
   "execution_count": 5,
   "id": "310a1755",
   "metadata": {},
   "outputs": [],
   "source": [
    "export default function bs_list(haystack: number[], needle: number): boolean {\n",
    "    let hi = haystack.length;\n",
    "    let lo = 0;\n",
    "    do {\n",
    "        const mid = Math.floor(lo + (hi - lo)/2);\n",
    "        const v = haystack[mid];\n",
    "\n",
    "        if(v === needle){\n",
    "            return true;\n",
    "        } else if(v > needle) {\n",
    "            hi = mid\n",
    "        } else {\n",
    "            lo = mid + 1\n",
    "        }\n",
    "    } while (lo < hi);\n",
    "       \n",
    "    return false;\n",
    "}\n"
   ]
  },
  {
   "cell_type": "code",
   "execution_count": 2,
   "id": "5d879d31-b984-4784-b0f7-f2cabeb884a8",
   "metadata": {},
   "outputs": [],
   "source": [
    "const haystack = [1, 3, 5, 7, 9, 11, 13, 15, 17, 19]"
   ]
  },
  {
   "cell_type": "code",
   "execution_count": 3,
   "id": "825bf0a2-35e6-4b93-b346-a559e74d1b9b",
   "metadata": {},
   "outputs": [],
   "source": [
    "const needle = 15"
   ]
  },
  {
   "cell_type": "code",
   "execution_count": 6,
   "id": "83448305-cd27-48f0-9245-3464654d1337",
   "metadata": {},
   "outputs": [
    {
     "data": {
      "text/plain": [
       "\u001b[33mtrue\u001b[39m"
      ]
     },
     "execution_count": 6,
     "metadata": {},
     "output_type": "execute_result"
    }
   ],
   "source": [
    "bs_list(haystack, needle)"
   ]
  },
  {
   "cell_type": "raw",
   "id": "ec94f928-f1a1-4717-9e14-dd29e93d99ec",
   "metadata": {},
   "source": [
    "Initial Array: \n",
    "[1, 3, 5, 7, 9, 11, 13, 15, 17, 19]\n",
    " lo                              hi\n",
    "\n",
    "Iteration 1: \n",
    "[1, 3, 5, 7, 9, 11, 13, 15, 17, 19]\n",
    "             mid\n",
    "             lo                    hi\n",
    "             \n",
    "\n",
    "Iteration 2: \n",
    "[1, 3, 5, 7, 9, 11, 13, 15, 17, 19]\n",
    "                           mid\n",
    "                           hi\n",
    "              lo\n",
    "\n",
    "Iteration 3:\n",
    "[1, 3, 5, 7, 9, 11, 13, 15, 17, 19]\n",
    "                     mid\n",
    "                     lo  hi\n"
   ]
  },
  {
   "cell_type": "markdown",
   "id": "1dda72f1-9cb7-48ba-a3f2-5278ad1ba6d1",
   "metadata": {},
   "source": [
    "### Initialization\n",
    "\n",
    "```\n",
    "lo = 0\n",
    "hi = 10 (array length is 10)\n",
    "```\n",
    "\n",
    "### Iteration 1\n",
    "\n",
    "```\n",
    "mid = floor(0 + (10 - 0) / 2) = floor(10 / 2) = 5\n",
    "v = haystack[5] = 11 (which is less than 15)\n",
    "lo = 5 + 1 = 6\n",
    "hi = 10\n",
    "```\n",
    "\n",
    "### Iteration 2\n",
    "\n",
    "```\n",
    "mid = floor(6 + (10 - 6) / 2) = floor(6 + 4 / 2) = floor(6 + 2) = 8\n",
    "v = haystack[8] = 17 (which is greater than 15)\n",
    "lo = 6\n",
    "hi = 8\n",
    "```\n",
    "\n",
    "### Iteration 3\n",
    "\n",
    "```\n",
    "mid = floor(6 + (8 - 6) / 2) = floor(6 + 2 / 2) = floor(6 + 1) = 7\n",
    "v = haystack[7] = 15 (which is equal to 15)\n",
    "Return true\n",
    "```\n",
    "\n",
    "The algorithm successfully found the needle (15) in the haystack. As you can see, at each step, the range [lo, hi) is narrowed until it zeroes in on the target value or confirms its absence."
   ]
  }
 ],
 "metadata": {
  "kernelspec": {
   "display_name": "Deno",
   "language": "typescript",
   "name": "deno"
  },
  "language_info": {
   "file_extension": ".ts",
   "mimetype": "text/x.typescript",
   "name": "typescript",
   "nb_converter": "script",
   "pygments_lexer": "typescript",
   "version": "5.2.2"
  }
 },
 "nbformat": 4,
 "nbformat_minor": 5
}
