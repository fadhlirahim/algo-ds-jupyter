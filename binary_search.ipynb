{
 "cells": [
  {
   "cell_type": "markdown",
   "id": "860d6b66",
   "metadata": {},
   "source": [
    "# Binary Search"
   ]
  },
  {
   "cell_type": "markdown",
   "id": "261eaf14",
   "metadata": {},
   "source": [
    "If the input halves at each step, it's likely O(LogN) or O(NlogN)"
   ]
  },
  {
   "cell_type": "code",
   "execution_count": 2,
   "id": "310a1755",
   "metadata": {},
   "outputs": [],
   "source": [
    "export default function bs_list(haystack: number[], needle: number): boolean {\n",
    "    let hi = haystack.length;\n",
    "    let lo = 0;\n",
    "    do {\n",
    "        const mid = Math.floor(lo + (hi - lo)/2);\n",
    "        const v = haystack[mid];\n",
    "\n",
    "        if(v === needle){\n",
    "            return true;\n",
    "        } else if(v > needle) {\n",
    "            hi = mid\n",
    "        } else {\n",
    "            lo = mid + 1\n",
    "        }\n",
    "    } while (lo < hi);\n",
    "       \n",
    "    return false;\n",
    "}\n"
   ]
  },
  {
   "cell_type": "code",
   "execution_count": 3,
   "id": "a729a713",
   "metadata": {},
   "outputs": [
    {
     "data": {
      "text/plain": [
       "\u001b[33mtrue\u001b[39m"
      ]
     },
     "execution_count": 3,
     "metadata": {},
     "output_type": "execute_result"
    }
   ],
   "source": [
    "bs_list([3,6,9,10,16], 10)"
   ]
  }
 ],
 "metadata": {
  "kernelspec": {
   "display_name": "Deno",
   "language": "typescript",
   "name": "deno"
  },
  "language_info": {
   "file_extension": ".ts",
   "mimetype": "text/x.typescript",
   "name": "typescript",
   "nb_converter": "script",
   "pygments_lexer": "typescript",
   "version": "5.2.2"
  }
 },
 "nbformat": 4,
 "nbformat_minor": 5
}
