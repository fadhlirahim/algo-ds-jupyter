{
 "cells": [
  {
   "cell_type": "markdown",
   "id": "2a6ed810-58c0-4d6a-9961-7010d70c7418",
   "metadata": {},
   "source": [
    "# ArrayBuffer"
   ]
  },
  {
   "cell_type": "markdown",
   "id": "3e9c95d7-0387-4f91-ad85-9a94254688ea",
   "metadata": {},
   "source": [
    "A ring buffer, also known as a circular buffer, circular queue, cyclic buffer, or ring queue, is a data structure that uses a single, fixed-size buffer as if it were connected end-to-end. This structure lends itself easily to buffering data streams.\n",
    "\n",
    "Here are the key points of a ring buffer:\n",
    "- It has a fixed size, and when it fills up, new data overwrites the old.\n",
    "- The buffer has a \"head\" for reading and a \"tail\" for writing.\n",
    "- When the head or tail reaches the end of the buffer, it wraps around to the beginning.\n",
    "\n",
    "In TypeScript, a ring buffer can be implemented using an array to store the data, and two pointers (or indexes) to represent the head and tail of the buffer. I'll provide you with a simple implementation below and include a test case to ensure it works as expected.\n",
    "\n",
    "\n"
   ]
  },
  {
   "cell_type": "code",
   "execution_count": 5,
   "id": "88d1536f-cf95-40ac-bffc-94fd9361f07f",
   "metadata": {},
   "outputs": [
    {
     "name": "stderr",
     "output_type": "stream",
     "text": [
      "Error: Buffer is full\n",
      "    at RingBuffer.enqueue (<anonymous>:23:13)\n",
      "    at <anonymous>:49:8\n"
     ]
    },
    {
     "name": "stdout",
     "output_type": "stream",
     "text": [
      "\u001b[33m1\u001b[39m\n",
      "\u001b[33m2\u001b[39m\n",
      "\u001b[33m3\u001b[39m\n",
      "\u001b[33m4\u001b[39m\n",
      "\u001b[1mnull\u001b[22m\n"
     ]
    }
   ],
   "source": [
    "class RingBuffer<T> {\n",
    "  private buffer: Array<T | null>;\n",
    "  private head: number;\n",
    "  private tail: number;\n",
    "  private size: number;\n",
    "\n",
    "  constructor(size: number) {\n",
    "    this.buffer = new Array<T | null>(size + 1).fill(null); // Notice the size + 1 to allow for an empty slot\n",
    "    this.head = 0;  // Points to the start of data\n",
    "    this.tail = 0;  // Points to the end of data\n",
    "    this.size = size + 1; // Increase the size by one to accommodate the empty slot\n",
    "  }\n",
    "\n",
    "  isFull(): boolean {\n",
    "    // The buffer is full if the tail is one position before the head, after wrapping\n",
    "    return this.next(this.tail) === this.head;\n",
    "  }\n",
    "\n",
    "  isEmpty(): boolean {\n",
    "    // The buffer is empty if the head and tail are at the same position and the slot is null\n",
    "    return this.head === this.tail;\n",
    "  }\n",
    "\n",
    "  enqueue(item: T): void {\n",
    "    if (this.isFull()) {\n",
    "      throw new Error('Buffer is full');\n",
    "    }\n",
    "    this.buffer[this.tail] = item;\n",
    "    this.tail = this.next(this.tail);\n",
    "  }\n",
    "\n",
    "  dequeue(): T | null {\n",
    "    if (this.isEmpty()) {\n",
    "      return null;\n",
    "    }\n",
    "    const item = this.buffer[this.head];\n",
    "    this.buffer[this.head] = null; // Clear the slot\n",
    "    this.head = this.next(this.head);\n",
    "    return item;\n",
    "  }\n",
    "\n",
    "  next(index: number): number {\n",
    "    // Calculate the next index, wrapping around if necessary\n",
    "    return (index + 1) % this.size;\n",
    "  }\n",
    "}\n",
    "\n",
    "// Test case\n",
    "const ring = new RingBuffer<number>(3); // This will create a buffer with 4 slots, 3 for data and 1 as the empty slot\n",
    "ring.enqueue(1);\n",
    "ring.enqueue(2);\n",
    "ring.enqueue(3);\n",
    "\n",
    "// At this point, the buffer will be full, and trying to enqueue another item will throw an error\n",
    "try {\n",
    "  ring.enqueue(4); // Should throw an error\n",
    "} catch (e) {\n",
    "  console.error(e);\n",
    "}\n",
    "\n",
    "console.log(ring.dequeue()); // Should print 1\n",
    "console.log(ring.dequeue()); // Should print 2\n",
    "ring.enqueue(4);\n",
    "console.log(ring.dequeue()); // Should print 3\n",
    "console.log(ring.dequeue()); // Should print 4\n",
    "console.log(ring.dequeue()); // Should print null, because the buffer is now empty\n"
   ]
  },
  {
   "cell_type": "markdown",
   "id": "5878ac4f-c78e-4830-9abe-6d87858c7f18",
   "metadata": {},
   "source": [
    "This implementation includes a size + 1 for the buffer array, which accounts for the empty slot that differentiates between a full buffer and an empty buffer. The enqueue and dequeue methods operate on the buffer, and the next method calculates the index that wraps around the buffer. The test case at the end should confirm the buffer's behavior by throwing an error when trying to add an element to a full buffer and by showing how elements are dequeed and enqueued."
   ]
  },
  {
   "cell_type": "markdown",
   "id": "db6728a1-cdad-414e-a9f8-243ad6985a40",
   "metadata": {},
   "source": [
    "## Application\n",
    "\n",
    "Ring buffers are highly useful in situations where a fixed amount of the latest data needs to be stored and older data is overwritten as new data comes in. Here are some common applications:\n",
    "\n",
    "1. **Producer-Consumer Problems**: In multi-threaded programming, ring buffers are often used to handle data exchange between producer and consumer threads without requiring complex thread synchronization. The producer writes to the buffer, and the consumer reads from it.\n",
    "\n",
    "2. **Networking**: Network devices use ring buffers for handling incoming data packets. Data is stored until the network stack can process it, ensuring that the latest data is always available without overflowing the buffer.\n",
    "\n",
    "3. **Audio Processing**: Audio applications use ring buffers for streaming audio data. When audio is played or recorded in real-time, the ring buffer provides a constant stream of audio samples to be processed by the sound card.\n",
    "\n",
    "4. **Data Stream Management**: Any application that needs to manage a continuous flow of data, like live financial tickers, can use ring buffers. It allows the application to process the most recent data and discard old data that's no longer needed.\n",
    "\n",
    "5. **Logging**: In situations where logs need to be kept for a recent period, a ring buffer can store logs, and as new logs come in, the oldest are overwritten, maintaining a fixed size.\n",
    "\n",
    "6. **Real-time Data Processing**: In real-time systems, such as those used in embedded systems or robotics, ring buffers can be used to store sensor readings. This allows the system to process or average the most recent data.\n",
    "\n",
    "These applications benefit from the ring buffer's performance characteristics since it allows constant time operations for inserting and removing elements and doesn't require dynamic memory allocation after its initial creation."
   ]
  }
 ],
 "metadata": {
  "kernelspec": {
   "display_name": "Deno",
   "language": "typescript",
   "name": "deno"
  },
  "language_info": {
   "file_extension": ".ts",
   "mimetype": "text/x.typescript",
   "name": "typescript",
   "nb_converter": "script",
   "pygments_lexer": "typescript",
   "version": "5.2.2"
  }
 },
 "nbformat": 4,
 "nbformat_minor": 5
}
