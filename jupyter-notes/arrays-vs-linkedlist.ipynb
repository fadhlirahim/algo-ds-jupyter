{
 "cells": [
  {
   "cell_type": "markdown",
   "id": "afd00b5c-9d58-477a-b629-5a8756ba5dda",
   "metadata": {},
   "source": [
    "# Arrays vs LinkedList\n",
    "\n",
    "- Usabilily\n",
    "- Time\n",
    "- Space\n",
    "\n",
    "## Array\n",
    "\n",
    "Usability:\n",
    "- You can't insert a value into an array without writing for loop to shift everything first.\n",
    "- Or to unshift if you want to delete an element from an array.\n",
    "- Suitable for random access of a list.\n",
    "\n",
    "Time:\n",
    "- O(1) for write, get.\n",
    "\n",
    "Space:\n",
    "-  Upfront contiguous memory.\n",
    "\n",
    "## Linked List\n",
    "\n",
    "Usability:\n",
    "- Traverse a list (linear search) before can insert.\n",
    "- Suitable for push/pop from the head/tail of a list.\n",
    "\n",
    "Time:\n",
    "- O(N) for get. \n",
    "\n",
    "Space:\n",
    "- Memory usage is optimized based on the N amount of nodes."
   ]
  },
  {
   "cell_type": "markdown",
   "id": "0c2de06e-8fcc-40fe-8356-653c19033680",
   "metadata": {},
   "source": [
    "## ArrayList\n",
    "\n",
    "Most languages has an implementation of a resizeable array. \n",
    "\n",
    "The term \"ArrayList\" is specifically used in Java to describe a resizable array implementation of the List interface. However, the concept of a dynamically resizable array, or a similar list data structure, exists in many programming languages, albeit with different names. Here are some of the languages and their equivalent of an \"ArrayList\":\n",
    "\n",
    "1. **Java**: `ArrayList` is part of the Java Collections Framework.\n",
    "2. **C#**: `List` in the System.Collections.Generic namespace is similar to Java's ArrayList.\n",
    "3. **Python**: The built-in `list` type behaves like an ArrayList, with dynamic resizing.\n",
    "4. **JavaScript/TypeScript**: Arrays in JavaScript and TypeScript are dynamic and can be used like ArrayLists.\n",
    "5. **C++**: The `std::vector` from the Standard Template Library (STL) provides similar functionality.\n",
    "6. **Ruby**: The `Array` class in Ruby automatically adjusts its size as needed.\n",
    "7. **Swift**: `Array` is a struct that provides the functionality of a dynamically resizing array.\n",
    "8. **Kotlin**: `ArrayList` or `mutableListOf` provides a dynamically resizable array.\n",
    "9. **PHP**: Arrays in PHP are dynamic and can be used like ArrayLists; they also serve as hash tables.\n",
    "10. **Go**: Slices in Go are dynamically-sized views on arrays.\n",
    "11. **Rust**: `Vec` is a growable array type provided by the Rust standard library.\n",
    "\n",
    "In each of these languages, the dynamic array data structure allows for adding, removing, and accessing elements, and the internal array size is managed automatically by the language's runtime. The operations available and the performance characteristics of these operations can vary between languages and implementations.\n",
    "\n",
    "\n"
   ]
  }
 ],
 "metadata": {
  "kernelspec": {
   "display_name": "Deno",
   "language": "typescript",
   "name": "deno"
  },
  "language_info": {
   "file_extension": ".ts",
   "mimetype": "text/x.typescript",
   "name": "typescript",
   "nb_converter": "script",
   "pygments_lexer": "typescript",
   "version": "5.2.2"
  }
 },
 "nbformat": 4,
 "nbformat_minor": 5
}
