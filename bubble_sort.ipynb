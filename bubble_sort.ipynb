{
 "cells": [
  {
   "cell_type": "markdown",
   "id": "43d9e4cd-ffc9-4b56-b3bc-c27b0131510e",
   "metadata": {},
   "source": [
    "# Bubble Sort\n",
    "\n",
    "General definition\n",
    "\n",
    "Sorted array:\n",
    "\n",
    "Xi <= Xi+1\n",
    "\n",
    "Bubble sort starts in the zero position. And it's basically the current index asking,\n",
    "\n",
    "\"Am I larger than you?\", if yes, swap!\n",
    "\n",
    "A single iteration will always leave the largest number in the end of the array.\n",
    "\n",
    "\n",
    "\n",
    "```\n",
    "[1, 3, 7, 4, 2]\n",
    "```\n",
    "\n",
    "```\n",
    "[1, 3, 4, 2, 7]\n",
    "```\n",
    "\n",
    "```\n",
    "[1, 3, 2, 4, 7]\n",
    "```\n",
    "\n",
    "```\n",
    "[1, 2, 3, 4, 7]\n",
    "```\n",
    "\n",
    "\n",
    "\n",
    "Time complexity: O(N^2)\n",
    "\n",
    "\n",
    "\n",
    "\n"
   ]
  },
  {
   "cell_type": "code",
   "execution_count": 1,
   "id": "d3a70f08-1ff5-4bf9-a547-09e5bb780650",
   "metadata": {},
   "outputs": [],
   "source": [
    "export default function bubble_sort(arr: number[]): number[] {\n",
    "\n",
    "    for(let i = 0; i < arr.length; ++i) {\n",
    "        // This loop optimization ensures we don't re-sort the largest numbers already in place.\n",
    "        for(let j = 0; j < arr.length - 1 - i; ++j) { \n",
    "            if (arr[j] > arr[j + 1]) {\n",
    "                // Swap the elements\n",
    "                const tmp = arr[j];\n",
    "                arr[j] = arr[j + 1];\n",
    "                arr[j + 1] = tmp;\n",
    "            }           \n",
    "        }\n",
    "    }\n",
    "    return arr;\n",
    "}\n"
   ]
  },
  {
   "cell_type": "code",
   "execution_count": 2,
   "id": "d7c68059-0bd2-40e8-8306-729b5a0f0051",
   "metadata": {},
   "outputs": [
    {
     "data": {
      "text/plain": [
       "[ \u001b[33m1\u001b[39m, \u001b[33m2\u001b[39m, \u001b[33m3\u001b[39m, \u001b[33m4\u001b[39m, \u001b[33m7\u001b[39m ]"
      ]
     },
     "execution_count": 2,
     "metadata": {},
     "output_type": "execute_result"
    }
   ],
   "source": [
    "bubble_sort([1, 3, 7, 4, 2]);"
   ]
  },
  {
   "cell_type": "code",
   "execution_count": 5,
   "id": "0b286d52-2b04-458a-8b4e-31952dbd58cb",
   "metadata": {},
   "outputs": [
    {
     "name": "stdout",
     "output_type": "stream",
     "text": [
      "Bubble Sort Test Passed!\n"
     ]
    }
   ],
   "source": [
    "function testBubbleSort() {\n",
    "    const input = [1, 3, 7, 4, 2];\n",
    "    const sorted = bubble_sort(input);\n",
    "    const expected = [ 1, 2, 3, 4, 7 ];\n",
    "    \n",
    "    console.assert(JSON.stringify(sorted) === JSON.stringify(expected), `Expected ${expected} but got ${sorted}`);\n",
    "    console.log('Bubble Sort Test Passed!');\n",
    "}\n",
    "\n",
    "testBubbleSort();\n"
   ]
  }
 ],
 "metadata": {
  "kernelspec": {
   "display_name": "Deno",
   "language": "typescript",
   "name": "deno"
  },
  "language_info": {
   "file_extension": ".ts",
   "mimetype": "text/x.typescript",
   "name": "typescript",
   "nb_converter": "script",
   "pygments_lexer": "typescript",
   "version": "5.2.2"
  }
 },
 "nbformat": 4,
 "nbformat_minor": 5
}
