{
 "cells": [
  {
   "cell_type": "markdown",
   "id": "9bf415cf-e3ae-45ad-8d4a-30ba6bb9df9a",
   "metadata": {},
   "source": [
    "# Two Crystal Ball Problem"
   ]
  },
  {
   "cell_type": "markdown",
   "id": "6877f9a1-1b3e-4261-a856-ca946d6be2b5",
   "metadata": {},
   "source": [
    "You have a building with N floors and two identical crystal balls. The balls break when dropped from a certain floor or higher, and you want to find out the lowest floor that will break the ball with the fewest number of drops.\n",
    "\n",
    "The challenge here is to minimize the number of drops you need to guarantee finding that floor."
   ]
  },
  {
   "cell_type": "code",
   "execution_count": 14,
   "id": "46722a34-5e4f-4833-ada6-e21f74a37e92",
   "metadata": {},
   "outputs": [],
   "source": [
    "export default function two_crystal_balls(breaks: boolean[]): number {\n",
    "  const jmpAmount = Math.floor(Math.sqrt(breaks.length));\n",
    "  let drops = 0;\n",
    "\n",
    "  // Phase 1: Find the approximate range.\n",
    "  // find the first crystal ball when it's first going to break\n",
    "  let i = jmpAmount;\n",
    "\n",
    "  for(; i < breaks.length; i += jmpAmount) {\n",
    "    drops++;\n",
    "    if(breaks[i]) {\n",
    "      break;\n",
    "    }\n",
    "  }\n",
    "\n",
    "  // Phase 2: Fine-tune to get the exact floor\n",
    "  i = i - jmpAmount + 1; \n",
    "  for(let j = 0; j < jmpAmount && i < breaks.length; ++j, ++i) {\n",
    "    drops++;\n",
    "    if (breaks[i]) {\n",
    "      console.log(`The ball breaks on floor ${i+1}`);\n",
    "      console.log(`Total number of drops: ${drops}`);\n",
    "      return i;\n",
    "    }\n",
    "  }\n",
    "\n",
    "  console.log(\"No breaking floor found\");\n",
    "  return -1;\n",
    "}\n"
   ]
  },
  {
   "cell_type": "code",
   "execution_count": 13,
   "id": "0596e071-73de-4bfc-b94a-1d5803fa5008",
   "metadata": {},
   "outputs": [
    {
     "name": "stdout",
     "output_type": "stream",
     "text": [
      "The ball breaks on floor 7\n",
      "Total number of drops: 5\n",
      "Minimum number of drops required: 6\n"
     ]
    }
   ],
   "source": [
    "// Test case\n",
    "const breaks: boolean[] = [false, false, false, false, false, false, true, true, true, true, true];\n",
    "console.log(`Minimum number of drops required: ${two_crystal_balls(breaks)}`);  // Output should be 3\n"
   ]
  },
  {
   "cell_type": "markdown",
   "id": "4ad1f49b-0eb7-4e94-89a2-e367f633bd64",
   "metadata": {},
   "source": [
    "1. The first phase to use the first ball to find an approximate range where the ball will break.\n",
    "2. The second phase to use the second ball for a more refined search within that range."
   ]
  },
  {
   "cell_type": "raw",
   "id": "4212154c-2d57-4d57-abae-6352fcc43d54",
   "metadata": {},
   "source": [
    "Visualization using some ascii art :)\n",
    "\n",
    "Initial Building:\n",
    "```\n",
    "10 | -\n",
    "9  | -\n",
    "8  | -\n",
    "7  | -\n",
    "6  | -\n",
    "5  | -\n",
    "4  | -\n",
    "3  | -\n",
    "2  | -\n",
    "1  | -\n",
    "```\n",
    "\n",
    "Iteration 1 (Phase 1): `i = 3`\n",
    "```\n",
    "10 | -\n",
    "9  | -\n",
    "8  | -\n",
    "7  | -\n",
    "6  | -\n",
    "5  | -\n",
    "4  | -\n",
    "3  | x (Drop first ball here)\n",
    "2  | -\n",
    "1  | -\n",
    "```\n",
    "No break. Increment `i` by `jmpAmount (3)`. Drops: 1\n",
    "\n",
    "Iteration 2 (Phase 1): `i = 6`\n",
    "```\n",
    "10 | -\n",
    "9  | -\n",
    "8  | -\n",
    "7  | -\n",
    "6  | x (Drop first ball here)\n",
    "5  | -\n",
    "4  | -\n",
    "3  | -\n",
    "2  | -\n",
    "1  | -\n",
    "```\n",
    "No break. Increment `i` by `jmpAmount (3)`. Drops: 2\n",
    "\n",
    "Iteration 3 (Phase 1): `i = 9`\n",
    "```\n",
    "10 | -\n",
    "9  | x (Drop first ball here)\n",
    "8  | -\n",
    "7  | -\n",
    "6  | -\n",
    "5  | -\n",
    "4  | -\n",
    "3  | -\n",
    "2  | -\n",
    "1  | -\n",
    "```\n",
    "Break! Jump back to `i = i - jmpAmount + 1 = 7`. Drops: 3\n",
    "\n",
    "Iteration 4 (Phase 2): `i = 7`\n",
    "```\n",
    "10 | -\n",
    "9  | -\n",
    "8  | -\n",
    "7  | x (Drop second ball here)\n",
    "6  | -\n",
    "5  | -\n",
    "4  | -\n",
    "3  | -\n",
    "2  | -\n",
    "1  | -\n",
    "```\n",
    "Break! We've found the floor. Drops: 4\n",
    "\n",
    "The ball breaks on the 7th floor, and it took 4 drops to find out.\n",
    "\n",
    "I hope this ASCII art visualization helps you understand how your code works for this test case!"
   ]
  },
  {
   "cell_type": "code",
   "execution_count": null,
   "id": "192dbfca-3e85-4517-a766-ae3e41610c6f",
   "metadata": {},
   "outputs": [],
   "source": [
    "The first break happens based on the structure of the algorithm and the specific array you're testing with. You use the first ball to skip ahead by `jmpAmount` floors until you find a floor where the ball breaks. This `jmpAmount` is determined by the square root of the number of elements in the array (floors in the building).\n",
    "\n",
    "In your test case with an array of length 11, the `jmpAmount` is calculated as `Math.floor(Math.sqrt(11))`, which is 3. This means that you first drop the ball from the 3rd floor, then the 6th floor, and then the 9th floor. When you drop it from the 9th floor, the ball breaks (based on the `breaks` array `[false, false, false, false, false, false, true, true, true, true, true]`). \n",
    "\n",
    "So, mathematically speaking, the first break occurs when you find the first `true` value in the array by incrementing the index `i` by `jmpAmount`. This is more of a loop control construct rather than a mathematical equation. It's designed to quickly approximate the range where the ball will break without having to check every single floor."
   ]
  }
 ],
 "metadata": {
  "kernelspec": {
   "display_name": "Deno",
   "language": "typescript",
   "name": "deno"
  },
  "language_info": {
   "file_extension": ".ts",
   "mimetype": "text/x.typescript",
   "name": "typescript",
   "nb_converter": "script",
   "pygments_lexer": "typescript",
   "version": "5.2.2"
  }
 },
 "nbformat": 4,
 "nbformat_minor": 5
}
